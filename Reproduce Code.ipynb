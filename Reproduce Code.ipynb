{
  "nbformat": 4,
  "nbformat_minor": 0,
  "metadata": {
    "colab": {
      "provenance": []
    },
    "kernelspec": {
      "name": "python3",
      "display_name": "Python 3"
    },
    "language_info": {
      "name": "python"
    }
  },
  "cells": [
    {
      "cell_type": "markdown",
      "source": [
        "Git Clone And Requirements"
      ],
      "metadata": {
        "id": "seSuV0dRrV45"
      }
    },
    {
      "cell_type": "code",
      "execution_count": null,
      "metadata": {
        "id": "6pC6BQUnrNCW"
      },
      "outputs": [],
      "source": [
        "# Clone the repository\n",
        "!git clone https://github.com/MarkChenYutian/T5-Sentinel-public.git\n",
        "\n",
        "# Navigate to the directory\n",
        "%cd T5-Sentinel-public\n",
        "\n",
        "# Install dependencies\n",
        "!pip install -r requirements.txt\n",
        "\n",
        "# Install Hugging Face library\n",
        "!pip install huggingface_hub\n"
      ]
    },
    {
      "cell_type": "markdown",
      "source": [
        "Hugging Face Authentication"
      ],
      "metadata": {
        "id": "ojpWS3sIrY-9"
      }
    },
    {
      "cell_type": "code",
      "source": [
        "from huggingface_hub import login\n",
        "\n",
        "# Log in with your Hugging Face API token\n",
        "login(token=\"your_huggingface_api_token\")\n"
      ],
      "metadata": {
        "id": "xd-rO0yXrVNc"
      },
      "execution_count": null,
      "outputs": []
    },
    {
      "cell_type": "markdown",
      "source": [
        "Import Dataset"
      ],
      "metadata": {
        "id": "DhmM5TPXru7W"
      }
    },
    {
      "cell_type": "code",
      "source": [
        "from datasets import load_dataset\n",
        "\n",
        "# Load GLUE dataset for the MRPC task\n",
        "dataset = load_dataset(\"glue\", \"mrpc\")\n",
        "\n",
        "# View the dataset\n",
        "print(dataset)\n"
      ],
      "metadata": {
        "id": "mzIr8LwPrnAY"
      },
      "execution_count": null,
      "outputs": []
    },
    {
      "cell_type": "markdown",
      "source": [
        "Preprocess Data"
      ],
      "metadata": {
        "id": "2XbOylr_r04g"
      }
    },
    {
      "cell_type": "code",
      "source": [
        "from transformers import T5Tokenizer\n",
        "\n",
        "# Initialize the T5 tokenizer\n",
        "tokenizer = T5Tokenizer.from_pretrained('t5-small')\n",
        "\n",
        "def preprocess_data(examples):\n",
        "    inputs = examples['sentence1']\n",
        "    targets = examples['sentence2']\n",
        "    model_inputs = tokenizer(inputs, max_length=512, truncation=True, padding='max_length')\n",
        "    labels = tokenizer(targets, max_length=128, truncation=True, padding='max_length')\n",
        "    model_inputs['labels'] = labels['input_ids']\n",
        "    return model_inputs\n",
        "\n",
        "# Apply preprocessing\n",
        "dataset = dataset.map(preprocess_data, batched=True)\n"
      ],
      "metadata": {
        "id": "mgEFT3-uryvB"
      },
      "execution_count": null,
      "outputs": []
    },
    {
      "cell_type": "markdown",
      "source": [
        "Train the Model"
      ],
      "metadata": {
        "id": "c6Au2t2Fr7x0"
      }
    },
    {
      "cell_type": "code",
      "source": [
        "# Train the T5-Sentinel Model\n",
        "!python3 ./detector/t5/arbitrary/__main__.py --config ./settings_0613_full.yaml\n"
      ],
      "metadata": {
        "id": "s2_uHZMGr-fF"
      },
      "execution_count": null,
      "outputs": []
    },
    {
      "cell_type": "markdown",
      "source": [
        "Evaluate the Model"
      ],
      "metadata": {
        "id": "m69EtpI2sCUh"
      }
    },
    {
      "cell_type": "code",
      "source": [
        "# Evaluate accuracy\n",
        "!python3 -m evaluator.calc.calc_accuracy\n"
      ],
      "metadata": {
        "id": "1oE4B0x9sGIi"
      },
      "execution_count": null,
      "outputs": []
    }
  ]
}